{
 "cells": [
  {
   "cell_type": "markdown",
   "id": "936960a2",
   "metadata": {},
   "source": [
    "# Importing the Libraries"
   ]
  },
  {
   "cell_type": "code",
   "execution_count": 1,
   "id": "0574f238",
   "metadata": {},
   "outputs": [
    {
     "name": "stdout",
     "output_type": "stream",
     "text": [
      "WARNING:tensorflow:From C:\\Users\\santh\\AppData\\Roaming\\Python\\Python311\\site-packages\\keras\\src\\losses.py:2976: The name tf.losses.sparse_softmax_cross_entropy is deprecated. Please use tf.compat.v1.losses.sparse_softmax_cross_entropy instead.\n",
      "\n"
     ]
    }
   ],
   "source": [
    "import tensorflow as tf\n",
    "from keras.preprocessing.image import ImageDataGenerator"
   ]
  },
  {
   "cell_type": "code",
   "execution_count": 2,
   "id": "e8533910",
   "metadata": {},
   "outputs": [
    {
     "data": {
      "text/plain": [
       "'2.15.0'"
      ]
     },
     "execution_count": 2,
     "metadata": {},
     "output_type": "execute_result"
    }
   ],
   "source": [
    "tf.__version__"
   ]
  },
  {
   "cell_type": "markdown",
   "id": "0a45969a",
   "metadata": {},
   "source": [
    "# Applying transformation for training images"
   ]
  },
  {
   "cell_type": "code",
   "execution_count": 3,
   "id": "cffdc9c8",
   "metadata": {},
   "outputs": [
    {
     "name": "stdout",
     "output_type": "stream",
     "text": [
      "Found 8005 images belonging to 2 classes.\n"
     ]
    }
   ],
   "source": [
    "train_data = ImageDataGenerator(\n",
    "    rescale = 1./255,\n",
    "    shear_range = 0.2,\n",
    "    zoom_range = 0.2,\n",
    "    horizontal_flip = True)\n",
    "    \n",
    "train_set = train_data.flow_from_directory(\n",
    "    r\"C:\\Users\\santh\\OneDrive\\Documents\\cat and dog\\training_set\\training_set\",\n",
    "    batch_size = 32,\n",
    "    class_mode = 'binary',\n",
    "    target_size = (64,64))"
   ]
  },
  {
   "cell_type": "markdown",
   "id": "5d590b91",
   "metadata": {},
   "source": [
    "# Applying transformation on testing images"
   ]
  },
  {
   "cell_type": "code",
   "execution_count": 4,
   "id": "488a300c",
   "metadata": {},
   "outputs": [
    {
     "name": "stdout",
     "output_type": "stream",
     "text": [
      "Found 2023 images belonging to 2 classes.\n"
     ]
    }
   ],
   "source": [
    "test_data = ImageDataGenerator(\n",
    "    rescale = 1./255)\n",
    "\n",
    "test_set = train_data.flow_from_directory(\n",
    "    r\"C:\\Users\\santh\\OneDrive\\Documents\\cat and dog\\test_set\\test_set\",\n",
    "    batch_size = 32,\n",
    "    class_mode = 'binary',\n",
    "    target_size = (64,64))"
   ]
  },
  {
   "cell_type": "markdown",
   "id": "b3c82c7b",
   "metadata": {},
   "source": [
    "# Defining a sequential class"
   ]
  },
  {
   "cell_type": "code",
   "execution_count": 5,
   "id": "893c4f59",
   "metadata": {},
   "outputs": [
    {
     "name": "stdout",
     "output_type": "stream",
     "text": [
      "WARNING:tensorflow:From C:\\Users\\santh\\AppData\\Roaming\\Python\\Python311\\site-packages\\keras\\src\\backend.py:873: The name tf.get_default_graph is deprecated. Please use tf.compat.v1.get_default_graph instead.\n",
      "\n"
     ]
    }
   ],
   "source": [
    "cnn = tf.keras.models.Sequential()"
   ]
  },
  {
   "cell_type": "markdown",
   "id": "1bd484f2",
   "metadata": {},
   "source": [
    "# Convolutional layer"
   ]
  },
  {
   "cell_type": "code",
   "execution_count": 6,
   "id": "682ab80e",
   "metadata": {},
   "outputs": [],
   "source": [
    "cnn.add(tf.keras.layers.Conv2D(filters=32, kernel_size=3, activation='relu', input_shape=[64,64,3]))"
   ]
  },
  {
   "cell_type": "markdown",
   "id": "5a54840b",
   "metadata": {},
   "source": [
    "# Maxpooling layer "
   ]
  },
  {
   "cell_type": "code",
   "execution_count": 7,
   "id": "73daf089",
   "metadata": {},
   "outputs": [
    {
     "name": "stdout",
     "output_type": "stream",
     "text": [
      "WARNING:tensorflow:From C:\\Users\\santh\\AppData\\Roaming\\Python\\Python311\\site-packages\\keras\\src\\layers\\pooling\\max_pooling2d.py:161: The name tf.nn.max_pool is deprecated. Please use tf.nn.max_pool2d instead.\n",
      "\n"
     ]
    }
   ],
   "source": [
    "cnn.add(tf.keras.layers.MaxPool2D(pool_size = 2, strides=2))"
   ]
  },
  {
   "cell_type": "markdown",
   "id": "6c625857",
   "metadata": {},
   "source": [
    "# Convolutional layer 2"
   ]
  },
  {
   "cell_type": "code",
   "execution_count": 8,
   "id": "764d2ca6",
   "metadata": {},
   "outputs": [],
   "source": [
    "cnn.add(tf.keras.layers.Conv2D(filters=32, kernel_size=3, activation='relu'))\n",
    "cnn.add(tf.keras.layers.MaxPool2D(pool_size = 2, strides=2))"
   ]
  },
  {
   "cell_type": "markdown",
   "id": "d762e996",
   "metadata": {},
   "source": [
    "# Flattening layer"
   ]
  },
  {
   "cell_type": "code",
   "execution_count": 9,
   "id": "99db475a",
   "metadata": {},
   "outputs": [],
   "source": [
    "cnn.add(tf.keras.layers.Flatten())"
   ]
  },
  {
   "cell_type": "markdown",
   "id": "ac046cf4",
   "metadata": {},
   "source": [
    "# Fully connected layer"
   ]
  },
  {
   "cell_type": "code",
   "execution_count": 10,
   "id": "d5f790c3",
   "metadata": {},
   "outputs": [],
   "source": [
    "cnn.add(tf.keras.layers.Dense(units=128, activation = 'relu'))"
   ]
  },
  {
   "cell_type": "code",
   "execution_count": 11,
   "id": "eca97532",
   "metadata": {},
   "outputs": [],
   "source": [
    "cnn.add(tf.keras.layers.Dense(units=1, activation='sigmoid'))"
   ]
  },
  {
   "cell_type": "code",
   "execution_count": 12,
   "id": "0f0ca3b3",
   "metadata": {},
   "outputs": [
    {
     "name": "stdout",
     "output_type": "stream",
     "text": [
      "WARNING:tensorflow:From C:\\Users\\santh\\AppData\\Roaming\\Python\\Python311\\site-packages\\keras\\src\\optimizers\\__init__.py:309: The name tf.train.Optimizer is deprecated. Please use tf.compat.v1.train.Optimizer instead.\n",
      "\n"
     ]
    }
   ],
   "source": [
    "cnn.compile(optimizer='adam', loss='binary_crossentropy', metrics=['accuracy'])"
   ]
  },
  {
   "cell_type": "markdown",
   "id": "e962c26b",
   "metadata": {},
   "source": [
    "# Training "
   ]
  },
  {
   "cell_type": "code",
   "execution_count": 13,
   "id": "041cd457",
   "metadata": {},
   "outputs": [
    {
     "name": "stdout",
     "output_type": "stream",
     "text": [
      "Epoch 1/15\n",
      "WARNING:tensorflow:From C:\\Users\\santh\\AppData\\Roaming\\Python\\Python311\\site-packages\\keras\\src\\utils\\tf_utils.py:492: The name tf.ragged.RaggedTensorValue is deprecated. Please use tf.compat.v1.ragged.RaggedTensorValue instead.\n",
      "\n",
      "WARNING:tensorflow:From C:\\Users\\santh\\AppData\\Roaming\\Python\\Python311\\site-packages\\keras\\src\\engine\\base_layer_utils.py:384: The name tf.executing_eagerly_outside_functions is deprecated. Please use tf.compat.v1.executing_eagerly_outside_functions instead.\n",
      "\n",
      "251/251 [==============================] - 229s 900ms/step - loss: 0.6693 - accuracy: 0.5828 - val_loss: 0.6126 - val_accuracy: 0.6584\n",
      "Epoch 2/15\n",
      "251/251 [==============================] - 58s 231ms/step - loss: 0.5902 - accuracy: 0.6876 - val_loss: 0.5943 - val_accuracy: 0.6787\n",
      "Epoch 3/15\n",
      "251/251 [==============================] - 54s 215ms/step - loss: 0.5563 - accuracy: 0.7137 - val_loss: 0.5391 - val_accuracy: 0.7405\n",
      "Epoch 4/15\n",
      "251/251 [==============================] - 49s 196ms/step - loss: 0.5270 - accuracy: 0.7365 - val_loss: 0.5191 - val_accuracy: 0.7444\n",
      "Epoch 5/15\n",
      "251/251 [==============================] - 49s 197ms/step - loss: 0.5049 - accuracy: 0.7518 - val_loss: 0.5244 - val_accuracy: 0.7370\n",
      "Epoch 6/15\n",
      "251/251 [==============================] - 50s 200ms/step - loss: 0.4904 - accuracy: 0.7568 - val_loss: 0.4993 - val_accuracy: 0.7622\n",
      "Epoch 7/15\n",
      "251/251 [==============================] - 49s 196ms/step - loss: 0.4727 - accuracy: 0.7734 - val_loss: 0.5147 - val_accuracy: 0.7479\n",
      "Epoch 8/15\n",
      "251/251 [==============================] - 47s 186ms/step - loss: 0.4565 - accuracy: 0.7810 - val_loss: 0.4900 - val_accuracy: 0.7716\n",
      "Epoch 9/15\n",
      "251/251 [==============================] - 48s 191ms/step - loss: 0.4429 - accuracy: 0.7929 - val_loss: 0.4848 - val_accuracy: 0.7657\n",
      "Epoch 10/15\n",
      "251/251 [==============================] - 52s 206ms/step - loss: 0.4310 - accuracy: 0.7964 - val_loss: 0.5377 - val_accuracy: 0.7612\n",
      "Epoch 11/15\n",
      "251/251 [==============================] - 50s 201ms/step - loss: 0.4250 - accuracy: 0.7999 - val_loss: 0.4618 - val_accuracy: 0.7845\n",
      "Epoch 12/15\n",
      "251/251 [==============================] - 50s 198ms/step - loss: 0.4036 - accuracy: 0.8149 - val_loss: 0.4931 - val_accuracy: 0.7751\n",
      "Epoch 13/15\n",
      "251/251 [==============================] - 50s 198ms/step - loss: 0.3971 - accuracy: 0.8157 - val_loss: 0.4553 - val_accuracy: 0.7954\n",
      "Epoch 14/15\n",
      "251/251 [==============================] - 46s 182ms/step - loss: 0.3910 - accuracy: 0.8189 - val_loss: 0.4557 - val_accuracy: 0.7899\n",
      "Epoch 15/15\n",
      "251/251 [==============================] - 50s 198ms/step - loss: 0.3720 - accuracy: 0.8297 - val_loss: 0.5014 - val_accuracy: 0.7776\n"
     ]
    },
    {
     "data": {
      "text/plain": [
       "<keras.src.callbacks.History at 0x220fb393710>"
      ]
     },
     "execution_count": 13,
     "metadata": {},
     "output_type": "execute_result"
    }
   ],
   "source": [
    "cnn.fit(x=train_set, validation_data=test_set, epochs=15)"
   ]
  },
  {
   "cell_type": "markdown",
   "id": "8ceeef3d",
   "metadata": {},
   "source": [
    "# Summary"
   ]
  },
  {
   "cell_type": "code",
   "execution_count": 14,
   "id": "4b955449",
   "metadata": {},
   "outputs": [
    {
     "name": "stdout",
     "output_type": "stream",
     "text": [
      "Model: \"sequential\"\n",
      "_________________________________________________________________\n",
      " Layer (type)                Output Shape              Param #   \n",
      "=================================================================\n",
      " conv2d (Conv2D)             (None, 62, 62, 32)        896       \n",
      "                                                                 \n",
      " max_pooling2d (MaxPooling2  (None, 31, 31, 32)        0         \n",
      " D)                                                              \n",
      "                                                                 \n",
      " conv2d_1 (Conv2D)           (None, 29, 29, 32)        9248      \n",
      "                                                                 \n",
      " max_pooling2d_1 (MaxPoolin  (None, 14, 14, 32)        0         \n",
      " g2D)                                                            \n",
      "                                                                 \n",
      " flatten (Flatten)           (None, 6272)              0         \n",
      "                                                                 \n",
      " dense (Dense)               (None, 128)               802944    \n",
      "                                                                 \n",
      " dense_1 (Dense)             (None, 1)                 129       \n",
      "                                                                 \n",
      "=================================================================\n",
      "Total params: 813217 (3.10 MB)\n",
      "Trainable params: 813217 (3.10 MB)\n",
      "Non-trainable params: 0 (0.00 Byte)\n",
      "_________________________________________________________________\n"
     ]
    }
   ],
   "source": [
    "cnn.summary()"
   ]
  },
  {
   "cell_type": "markdown",
   "id": "f27ab09c",
   "metadata": {},
   "source": [
    "# Testing"
   ]
  },
  {
   "cell_type": "code",
   "execution_count": 21,
   "id": "168b87ee",
   "metadata": {},
   "outputs": [
    {
     "name": "stdout",
     "output_type": "stream",
     "text": [
      "Predicted class probabilities: [[1.3296634e-18]]\n",
      "The Given image is Cat\n"
     ]
    }
   ],
   "source": [
    "import numpy as np\n",
    "from keras.preprocessing import image\n",
    "from keras.utils import load_img, img_to_array\n",
    "\n",
    "test_image = load_img(r\"C:\\Users\\santh\\OneDrive\\Documents\\cat and dog\\DOG AND CAT\\catty.jpeg\", target_size=(64,64))\n",
    "test_image = img_to_array(test_image)\n",
    "\n",
    "test_image = np.expand_dims(test_image, axis=0)\n",
    "\n",
    "result = cnn.predict(test_image, verbose = None)\n",
    "print(\"Predicted class probabilities:\", result)\n",
    "\n",
    "#print(\"Class indices:\", train_set.class_indices)\n",
    "\n",
    "\n",
    "if result[0][0] == 1:\n",
    "    print('The Given image is Dog')\n",
    "else:\n",
    "    print('The Given image is Cat')"
   ]
  },
  {
   "cell_type": "code",
   "execution_count": 1,
   "id": "637e94f8",
   "metadata": {},
   "outputs": [
    {
     "name": "stdout",
     "output_type": "stream",
     "text": [
      "Requirement already satisfied: joblib in c:\\users\\santh\\anaconda3\\lib\\site-packages (1.3.2)\n"
     ]
    }
   ],
   "source": [
    "!pip install joblib"
   ]
  },
  {
   "cell_type": "code",
   "execution_count": 22,
   "id": "ed9933fb",
   "metadata": {},
   "outputs": [
    {
     "data": {
      "text/plain": [
       "['C:\\\\Users\\\\santh\\\\OneDrive\\\\Documents\\\\cat and dog.pkl']"
      ]
     },
     "execution_count": 22,
     "metadata": {},
     "output_type": "execute_result"
    }
   ],
   "source": [
    "import joblib\n",
    "\n",
    "# Replace 'your_model' with your actual model\n",
    "model = \"CNN\"\n",
    "filename = r'C:\\Users\\santh\\OneDrive\\Documents\\cat and dog.pkl'\n",
    "joblib.dump(model, filename)"
   ]
  },
  {
   "cell_type": "code",
   "execution_count": 23,
   "id": "5ceffe7a",
   "metadata": {},
   "outputs": [
    {
     "data": {
      "text/plain": [
       "'CNN'"
      ]
     },
     "execution_count": 23,
     "metadata": {},
     "output_type": "execute_result"
    }
   ],
   "source": [
    "loaded_model = joblib.load(filename)\n",
    "loaded_model"
   ]
  },
  {
   "cell_type": "code",
   "execution_count": null,
   "id": "7c1c549d",
   "metadata": {},
   "outputs": [],
   "source": []
  },
  {
   "cell_type": "code",
   "execution_count": null,
   "id": "e6bc38b0",
   "metadata": {},
   "outputs": [],
   "source": []
  },
  {
   "cell_type": "code",
   "execution_count": null,
   "id": "4efd8ca9",
   "metadata": {},
   "outputs": [],
   "source": []
  },
  {
   "cell_type": "code",
   "execution_count": null,
   "id": "8d35057d",
   "metadata": {},
   "outputs": [],
   "source": []
  },
  {
   "cell_type": "code",
   "execution_count": null,
   "id": "7bec9a58",
   "metadata": {},
   "outputs": [],
   "source": []
  },
  {
   "cell_type": "code",
   "execution_count": null,
   "id": "4f22a968",
   "metadata": {},
   "outputs": [],
   "source": []
  },
  {
   "cell_type": "code",
   "execution_count": null,
   "id": "f2bd6b50",
   "metadata": {},
   "outputs": [],
   "source": []
  }
 ],
 "metadata": {
  "kernelspec": {
   "display_name": "Python 3 (ipykernel)",
   "language": "python",
   "name": "python3"
  },
  "language_info": {
   "codemirror_mode": {
    "name": "ipython",
    "version": 3
   },
   "file_extension": ".py",
   "mimetype": "text/x-python",
   "name": "python",
   "nbconvert_exporter": "python",
   "pygments_lexer": "ipython3",
   "version": "3.11.5"
  }
 },
 "nbformat": 4,
 "nbformat_minor": 5
}
